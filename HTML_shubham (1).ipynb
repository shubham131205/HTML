{
  "cells": [
    {
      "cell_type": "code",
      "execution_count": null,
      "metadata": {
        "id": "TtLx44MhTbBE"
      },
      "outputs": [],
      "source": []
    },
    {
      "cell_type": "markdown",
      "metadata": {
        "id": "z6-gz9AMU5u_"
      },
      "source": [
        "# Question 1 : Explain the basic structure of an HTML page. Why is it important to follow this structure?\n",
        "   -->\n",
        "    "
      ]
    },
    {
      "cell_type": "code",
      "execution_count": null,
      "metadata": {
        "id": "5FwvNFCjY7h7"
      },
      "outputs": [],
      "source": [
        "<!DOCTYPE html>\n",
        "<html lang=\"en\">\n",
        "<head>\n",
        "    <meta charset=\"UTF-8\">\n",
        "    <meta name=\"viewport\" content=\"width=device-width, initial-scale=1.0\">\n",
        "    <title>Document</title>\n",
        "</head>\n",
        "<body>\n",
        "   <!--  Holds the visible content (text, images, forms, etc.).-->\n",
        "</body>\n",
        "</html>\n",
        "\n",
        "\n"
      ]
    },
    {
      "cell_type": "markdown",
      "metadata": {
        "id": "cPLebVa8Vhqn"
      },
      "source": [
        "the above structure is the basic structure"
      ]
    },
    {
      "cell_type": "markdown",
      "metadata": {
        "id": "BVhX5nSpWS_z"
      },
      "source": [
        "**importance of this structure**\n",
        "\n",
        "✅ Browser Compatibility: Browsers need this structure to interpret and display content correctly.\n",
        "\n",
        "✅ Maintainability: A consistent layout makes it easier for developers to read, update, and debug code.\n",
        "\n",
        "✅ Accessibility: Proper structure helps screen readers and other assistive technologies interpret content for users with disabilities.\n",
        "\n",
        "✅ Search Engine Optimization (SEO): Well-structured HTML improves visibility in search engine results.\n",
        "\n",
        "✅ Standard Compliance: Following the W3C standards ensures that your webpage behaves consistently across different browsers and devices."
      ]
    },
    {
      "cell_type": "markdown",
      "metadata": {
        "id": "Av647P-0YPB-"
      },
      "source": [
        "#Question 2: You’re building a small personal profile page. Which HTML tags will you use to highlight your name as a heading, describe yourself in a paragraph, and emphasize a key skill?\n",
        "      -->"
      ]
    },
    {
      "cell_type": "code",
      "execution_count": null,
      "metadata": {
        "id": "Gh7gXLWkZOZ7"
      },
      "outputs": [],
      "source": [
        "\n",
        "\n",
        "<!DOCTYPE html>\n",
        "<html lang=\"en\">\n",
        "<head>\n",
        "    <meta charset=\"UTF-8\">\n",
        "    <meta name=\"viewport\" content=\"width=device-width, initial-scale=1.0\">\n",
        "    <title>Document</title>\n",
        "</head>\n",
        "<body>\n",
        " <h1>Shubham Dash</h1>\n",
        "<p>I am a passionate web developer who loves learning new technologies.</p>\n",
        "<p>My key skill is <strong>JavaScript</strong>.</p>\n",
        "</body>\n",
        "</html>\n",
        "\n"
      ]
    },
    {
      "cell_type": "markdown",
      "metadata": {
        "id": "oWCgOoLtZ6su"
      },
      "source": [
        "h1 tag: Highlights the name.\n",
        "\n",
        "p tag: Describes in paragraph.\n",
        "\n",
        "strong tag: Emphasizes the key skill."
      ]
    },
    {
      "cell_type": "markdown",
      "metadata": {
        "id": "tjkn62q0aGOc"
      },
      "source": [
        "#Question 3: Look at the code below. Can you find and fix the mistake?\n"
      ]
    },
    {
      "cell_type": "code",
      "execution_count": null,
      "metadata": {
        "id": "O6go-npeaMY_"
      },
      "outputs": [],
      "source": [
        "<!-- This is an HTML comment\n",
        "<h1>Welcome to my website</h1>\n"
      ]
    },
    {
      "cell_type": "markdown",
      "metadata": {
        "id": "R0fww04TaXsa"
      },
      "source": [
        " --> the corrected code is written below"
      ]
    },
    {
      "cell_type": "code",
      "execution_count": null,
      "metadata": {
        "id": "Qr8wyMnSaZJH"
      },
      "outputs": [],
      "source": [
        "<!-- This is an HTML comment-->\n",
        "<h1>Welcome to my website</h1>"
      ]
    },
    {
      "cell_type": "markdown",
      "metadata": {
        "id": "SEKmCRlzaiVc"
      },
      "source": [
        "#Question 4 : You’re creating a form that asks the user to enter their name, select their country from a list, and click a button to submit. Write the HTML code for this.\n",
        "   --->"
      ]
    },
    {
      "cell_type": "code",
      "execution_count": null,
      "metadata": {
        "id": "hJHzs3AUatfy"
      },
      "outputs": [],
      "source": [
        "<!DOCTYPE html>\n",
        "<html>\n",
        "<head>\n",
        "  <title>User Information Form</title>\n",
        "</head>\n",
        "<body>\n",
        "\n",
        "  <h2>User Information Form</h2>\n",
        "\n",
        "  <form action=\"#\" method=\"post\">\n",
        "    <!-- Name Input -->\n",
        "    <label for=\"name\">Name:</label><br>\n",
        "    <input type=\"text\" id=\"name\" name=\"name\" required><br><br>\n",
        "\n",
        "    <!-- Country Selection -->\n",
        "    <label for=\"country\">Select Country:</label><br>\n",
        "    <select id=\"country\" name=\"country\" required>\n",
        "      <option value=\"\">--Select Country--</option>\n",
        "      <option value=\"India\">India</option>\n",
        "      <option value=\"USA\">USA</option>\n",
        "      <option value=\"UK\">UK</option>\n",
        "      <option value=\"Canada\">Canada</option>\n",
        "      <option value=\"Australia\">Australia</option>\n",
        "    </select><br><br>\n",
        "\n",
        "    <!-- Submit Button -->\n",
        "    <button type=\"submit\">Submit</button>\n",
        "  </form>\n",
        "\n",
        "</body>\n",
        "</html>\n"
      ]
    },
    {
      "cell_type": "markdown",
      "metadata": {
        "id": "h3jHUDh8a6Pq"
      },
      "source": [
        "#Question 5 :Write short HTML code to show your favorite fruits in a bulleted list and your top 3 programming languages in a numbered list.\n",
        "    -->\n"
      ]
    },
    {
      "cell_type": "code",
      "execution_count": null,
      "metadata": {
        "id": "OTTygkLgbGF0"
      },
      "outputs": [],
      "source": [
        "<!DOCTYPE html>\n",
        "<html>\n",
        "<head>\n",
        "  <title>My Favorites</title>\n",
        "</head>\n",
        "<body>\n",
        "\n",
        "  <h2>My Favorite Fruits</h2>\n",
        "  <ul>\n",
        "    <li>Mango</li>\n",
        "    <li>Apple</li>\n",
        "    <li>Banana</li>\n",
        "    <li>Strawberry</li>\n",
        "  </ul>\n",
        "\n",
        "  <h2>Top 3 Programming Languages</h2>\n",
        "  <ol>\n",
        "    <li>JavaScript</li>\n",
        "    <li>Python</li>\n",
        "    <li>Java</li>\n",
        "  </ol>\n",
        "\n",
        "</body>\n",
        "</html>\n"
      ]
    },
    {
      "cell_type": "markdown",
      "metadata": {
        "id": "uioUfdoCbRrp"
      },
      "source": [
        "#Question 6: Ravi wants to leave a note in his HTML file so that only other developers can see it, not the users on the website. How should he do this? Why are such notes useful?"
      ]
    },
    {
      "cell_type": "markdown",
      "metadata": {
        "id": "Aenq_VZtbmHh"
      },
      "source": [
        "Ravi should use HTML comments to leave notes that are visible only in the code (for developers), but not shown on the web page.\n",
        "example of comments\n"
      ]
    },
    {
      "cell_type": "code",
      "execution_count": null,
      "metadata": {
        "id": "jIdX1fKrbspB"
      },
      "outputs": [],
      "source": [
        "<!-- This is a developer note that will not be displayed in the browser -->\n"
      ]
    },
    {
      "cell_type": "markdown",
      "metadata": {
        "id": "weN7_j2Rbtl8"
      },
      "source": [
        "**USECASES OF HTML COMMENTS**\n",
        "\n",
        "\n",
        "1.Improves Code Readability\n",
        "\n",
        " -> Helps developers understand what different parts of the code do.\n",
        "\n",
        "\n",
        "2.Acts Like Documentation\n",
        "\n",
        " ->Useful for teams working on large projects or when revisiting code after some time.\n",
        "\n",
        "\n",
        "3.Used to Disable Code Temporarily\n",
        "\n",
        " -->Can be used to \"hide\" code during testing without deleting it:\n",
        "\n",
        "\n",
        "\n",
        "4.Helpful During Development and Debugging\n",
        "\n",
        "  -->Developers can leave reminders or instructions (e.g., <!-- TODO: Add footer -->).\n",
        "\n"
      ]
    },
    {
      "cell_type": "markdown",
      "metadata": {
        "id": "Csullf3ecaLl"
      },
      "source": [
        "#Question 7: Here’s a form snippet. Can you spot the error and rewrite the correct version?\n",
        "\n",
        "\n"
      ]
    },
    {
      "cell_type": "code",
      "execution_count": null,
      "metadata": {
        "id": "2udNzmE-cxHx"
      },
      "outputs": [],
      "source": [
        "<form>\n",
        " <input name=\"email\">\n",
        " <select>\n",
        " <option>India</option>\n",
        " </select>\n",
        " <button>Send</buton>\n",
        "</form>"
      ]
    },
    {
      "cell_type": "markdown",
      "metadata": {
        "id": "XORmt5NjcXLs"
      },
      "source": [
        " ---> corrected code is given below\n"
      ]
    },
    {
      "cell_type": "code",
      "execution_count": null,
      "metadata": {
        "id": "dyOOwg9qdWhP"
      },
      "outputs": [],
      "source": [
        "<!DOCTYPE html>\n",
        "<html>\n",
        "<head>\n",
        "  <title>Form Fix</title>\n",
        "</head>\n",
        "<body>\n",
        "\n",
        "  <form action=\"#\" method=\"post\">\n",
        "    <!-- Email Input -->\n",
        "    <label for=\"email\">Email:</label><br>\n",
        "    <input type=\"email\" id=\"email\" name=\"email\" required><br><br>\n",
        "\n",
        "    <!-- Country Selection -->\n",
        "    <label for=\"country\">Country:</label><br>\n",
        "    <select id=\"country\" name=\"country\" required>\n",
        "      <option value=\"\">--Select Country--</option>\n",
        "      <option value=\"India\">India</option>\n",
        "      <option value=\"USA\">USA</option>\n",
        "      <option value=\"UK\">UK</option>\n",
        "    </select><br><br>\n",
        "\n",
        "    <!-- Submit Button -->\n",
        "    <button type=\"submit\">Send</button>\n",
        "  </form>\n",
        "\n",
        "</body>\n",
        "</html>\n"
      ]
    },
    {
      "cell_type": "markdown",
      "metadata": {
        "id": "oOR3Bxz8dZPL"
      },
      "source": [
        "\n",
        "1.Missing type in input\n",
        "\n",
        "\n",
        "  Input should specify type=\"email\" for validation and clarity.\n",
        "\n",
        "\n",
        "2.select has no name attribute\n",
        "\n",
        "\n",
        "   It’s needed for form submission.\n",
        "   \n",
        "\n",
        "3.Incorrect closing tag button\n",
        "\n",
        "\n",
        "\n",
        "\n",
        "\n"
      ]
    },
    {
      "cell_type": "markdown",
      "metadata": {
        "id": "ouel4O9Fdxto"
      },
      "source": []
    }
  ],
  "metadata": {
    "colab": {
      "provenance": []
    },
    "kernelspec": {
      "display_name": "Python 3",
      "name": "python3"
    },
    "language_info": {
      "name": "python"
    }
  },
  "nbformat": 4,
  "nbformat_minor": 0
}